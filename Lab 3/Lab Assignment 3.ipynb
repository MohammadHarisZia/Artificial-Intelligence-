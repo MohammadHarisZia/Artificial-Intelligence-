{
 "cells": [
  {
   "cell_type": "markdown",
   "id": "1ff0013a",
   "metadata": {},
   "source": [
    "<h1>Home Assignment 1</h1>"
   ]
  },
  {
   "attachments": {},
   "cell_type": "markdown",
   "id": "83dc342c",
   "metadata": {},
   "source": [
    "<img src=\"https://drive.google.com/uc?export=view&id=1_ASxhoeTUhTLdRCLjP1dQqMHlM5gpHou\">"
   ]
  },
  {
   "cell_type": "code",
   "execution_count": 3,
   "id": "da2b4630",
   "metadata": {},
   "outputs": [],
   "source": [
    "class Node:\n",
    "    def __init__(self,state,parent,actions,totalCost):\n",
    "        self.state=self\n",
    "        self.parent=parent\n",
    "        self.actions=actions\n",
    "        self.totalCost=totalCost\n",
    "        \n",
    "graph={'A':Node('A',None,['B','X'],None),\n",
    "       'B':Node('B',None,['A','C'],None),\n",
    "       'C':Node('C',None,['B','D'],None),\n",
    "       'D':Node('D',None,['C','E'],None),\n",
    "       'E':Node('E',None,['D','Z','F'],None),\n",
    "       'F':Node('F',None,['E','G'],None),\n",
    "       'G':Node('G',None,['F','H'],None),\n",
    "       'H':Node('H',None,['G','Y','I'],None),\n",
    "       'I':Node('I',None,['H','J'],None),\n",
    "       'J':Node('J',None,['I','K','L'],None),\n",
    "       'K':Node('K',None,['J','M'],None),\n",
    "       'L':Node('L',None,['J','M'],None),\n",
    "       'M':Node('M',None,['K','L','N'],None),\n",
    "       'N':Node('N',None,['M','O'],None),\n",
    "       'O':Node('O',None,['N','S','P'],None),\n",
    "       'P':Node('P',None,['O','Q'],None),\n",
    "       'Q':Node('Q',None,['R','P'],None),\n",
    "       'R':Node('R',None,['Q'],None),\n",
    "       'S':Node('S',None,['O','T'],None),\n",
    "       'T':Node('T',None,['S','U'],None),\n",
    "       'U':Node('U',None,['T','V'],None),\n",
    "       'V':Node('V',None,['U','W'],None),\n",
    "       'W':Node('W',None,['V','X'],None),\n",
    "       'X':Node('X',None,['W','A'],None),\n",
    "       'Y':Node('Y',None,['H'],None),\n",
    "       'Z':Node('Z',None,['E'],None),\n",
    "      }\n"
   ]
  },
  {
   "cell_type": "markdown",
   "id": "acdf70f6",
   "metadata": {},
   "source": [
    "<h1>Lab 3</h1>"
   ]
  },
  {
   "cell_type": "markdown",
   "id": "5fab8b8b",
   "metadata": {},
   "source": [
    "<h3>Activity 1</h3>"
   ]
  },
  {
   "cell_type": "code",
   "execution_count": 1,
   "id": "6aca3b92",
   "metadata": {},
   "outputs": [],
   "source": [
    "class Node:\n",
    "    def __init__(self,state,parent,actions,totalCost):\n",
    "        self.state=state\n",
    "        self.parent=parent\n",
    "        self.actions=actions\n",
    "        self.totalCost=totalCost\n",
    "        \n",
    "graph={'A':Node('A',None,['B','C','E'],None),\n",
    "       'B':Node('B',None,['A','D','E'],None),<h3>Activity 1</h3>\n",
    "       'C':Node('C',None,['A','F','G'],None),\n",
    "       'D':Node('D',None,['B','E'],None),\n",
    "       'E':Node('E',None,['A','B','D'],None),\n",
    "       'F':Node('F',None,['C'],None),\n",
    "       'G':Node('G',None,['C'],None)}\n"
   ]
  },
  {
   "cell_type": "markdown",
   "id": "4373f452",
   "metadata": {},
   "source": [
    "<h3>Activity 2</h3>"
   ]
  },
  {
   "cell_type": "code",
   "execution_count": 2,
   "id": "25eab253",
   "metadata": {},
   "outputs": [
    {
     "name": "stdout",
     "output_type": "stream",
     "text": [
      "['A', 'C', 'F']\n"
     ]
    }
   ],
   "source": [
    "def BFS():\n",
    "    initialState='A'\n",
    "    goalState='F'\n",
    "    \n",
    "    graph={'A':Node('A',None,['B','C','E'],None),\n",
    "       'B':Node('B',None,['A','D','E'],None),\n",
    "       'C':Node('C',None,['A','F','G'],None),\n",
    "       'D':Node('D',None,['B','E'],None),\n",
    "       'E':Node('E',None,['A','B','D'],None),\n",
    "       'F':Node('F',None,['C'],None),\n",
    "       'G':Node('G',None,['C'],None)}\n",
    "    \n",
    "    \n",
    "    frontier=[initialState]\n",
    "    explored=[]\n",
    "    \n",
    "    while len(frontier)!=0:\n",
    "        currentNode=frontier.pop(0)\n",
    "        explored.append(currentNode)\n",
    "        for child in graph[currentNode].actions:\n",
    "            if child not in frontier and child not in explored:\n",
    "                graph[child].parent=currentNode\n",
    "                if graph[child].state==goalState:\n",
    "                    return actionSequence(graph,initialState,goalState)\n",
    "                frontier.append(child)\n",
    "\n",
    "\n",
    "    \n",
    "def actionSequence(graph,initialState,goalState):\n",
    "    solution=[goalState]\n",
    "    currentParent=graph[goalState].parent\n",
    "    while currentParent!=None:\n",
    "        solution.append(currentParent)\n",
    "        currentParent=graph[currentParent].parent\n",
    "    solution.reverse()\n",
    "    return solution\n",
    "    \n",
    "solution=BFS()\n",
    "print(solution)"
   ]
  }
 ],
 "metadata": {
  "kernelspec": {
   "display_name": "Python 3",
   "language": "python",
   "name": "python3"
  },
  "language_info": {
   "codemirror_mode": {
    "name": "ipython",
    "version": 3
   },
   "file_extension": ".py",
   "mimetype": "text/x-python",
   "name": "python",
   "nbconvert_exporter": "python",
   "pygments_lexer": "ipython3",
   "version": "3.8.8"
  }
 },
 "nbformat": 4,
 "nbformat_minor": 5
}
