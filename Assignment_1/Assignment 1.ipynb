{
 "cells": [
  {
   "cell_type": "markdown",
   "id": "7c335516",
   "metadata": {},
   "source": [
    "<h1>Lab Assignment No 1<h1>\n",
    "    \n"
   ]
  },
  {
   "cell_type": "markdown",
   "id": "12c0ca9c",
   "metadata": {},
   "source": [
    "<h2>Activity 1</h2>"
   ]
  },
  {
   "cell_type": "code",
   "execution_count": 72,
   "id": "7e356641",
   "metadata": {},
   "outputs": [
    {
     "data": {
      "text/plain": [
       "24"
      ]
     },
     "execution_count": 72,
     "metadata": {},
     "output_type": "execute_result"
    }
   ],
   "source": [
    "24"
   ]
  },
  {
   "cell_type": "code",
   "execution_count": 73,
   "id": "b2598c13",
   "metadata": {},
   "outputs": [
    {
     "data": {
      "text/plain": [
       "(4, 2)"
      ]
     },
     "execution_count": 73,
     "metadata": {},
     "output_type": "execute_result"
    }
   ],
   "source": [
    "4,2"
   ]
  },
  {
   "cell_type": "code",
   "execution_count": 74,
   "id": "b93d9af3",
   "metadata": {},
   "outputs": [
    {
     "name": "stdout",
     "output_type": "stream",
     "text": [
      "234\n",
      "45.9\n"
     ]
    }
   ],
   "source": [
    "print(234)\n",
    "print(45.90)"
   ]
  },
  {
   "cell_type": "markdown",
   "id": "0c30a841",
   "metadata": {},
   "source": [
    "<p>-----------------------------------------------------------------------------------------------------------------------------------------------------------------------------------------------------------------</p>"
   ]
  },
  {
   "cell_type": "markdown",
   "id": "7e18577d",
   "metadata": {},
   "source": [
    "<h2>Activity 2</h2>"
   ]
  },
  {
   "cell_type": "code",
   "execution_count": 75,
   "id": "3db24902",
   "metadata": {},
   "outputs": [
    {
     "ename": "NameError",
     "evalue": "name 'hello' is not defined",
     "output_type": "error",
     "traceback": [
      "\u001b[1;31m---------------------------------------------------------------------------\u001b[0m",
      "\u001b[1;31mNameError\u001b[0m                                 Traceback (most recent call last)",
      "\u001b[1;32m~\\AppData\\Local\\Temp/ipykernel_10428/3305111549.py\u001b[0m in \u001b[0;36m<module>\u001b[1;34m\u001b[0m\n\u001b[1;32m----> 1\u001b[1;33m \u001b[0mhello\u001b[0m\u001b[1;33m\u001b[0m\u001b[1;33m\u001b[0m\u001b[0m\n\u001b[0m",
      "\u001b[1;31mNameError\u001b[0m: name 'hello' is not defined"
     ]
    }
   ],
   "source": [
    "hello"
   ]
  },
  {
   "cell_type": "code",
   "execution_count": 76,
   "id": "50d8edba",
   "metadata": {},
   "outputs": [
    {
     "data": {
      "text/plain": [
       "'hello'"
      ]
     },
     "execution_count": 76,
     "metadata": {},
     "output_type": "execute_result"
    }
   ],
   "source": [
    "'hello'"
   ]
  },
  {
   "cell_type": "code",
   "execution_count": 77,
   "id": "2e1a4059",
   "metadata": {},
   "outputs": [
    {
     "data": {
      "text/plain": [
       "'Quote me on this!'"
      ]
     },
     "execution_count": 77,
     "metadata": {},
     "output_type": "execute_result"
    }
   ],
   "source": [
    "'Quote me on this!'"
   ]
  },
  {
   "cell_type": "code",
   "execution_count": 78,
   "id": "b095312a",
   "metadata": {},
   "outputs": [
    {
     "data": {
      "text/plain": [
       "\"What's your name?\""
      ]
     },
     "execution_count": 78,
     "metadata": {},
     "output_type": "execute_result"
    }
   ],
   "source": [
    "\"What's your name?\""
   ]
  },
  {
   "cell_type": "code",
   "execution_count": 81,
   "id": "7b25446e",
   "metadata": {},
   "outputs": [
    {
     "data": {
      "text/plain": [
       "'\\nThis is a multiline String\\nThis is the second line\\n'"
      ]
     },
     "execution_count": 81,
     "metadata": {},
     "output_type": "execute_result"
    }
   ],
   "source": [
    "'''\n",
    "This is a multiline String\n",
    "This is the second line\n",
    "'''"
   ]
  },
  {
   "cell_type": "markdown",
   "id": "4925b37d",
   "metadata": {},
   "source": [
    "<p>-----------------------------------------------------------------------------------------------------------------------------------------------------------------------------------------------------------------</p>"
   ]
  },
  {
   "cell_type": "markdown",
   "id": "e078e5cb",
   "metadata": {},
   "source": [
    "<h2>Activity 3</h2>"
   ]
  },
  {
   "cell_type": "code",
   "execution_count": 141,
   "id": "b0eb600e",
   "metadata": {},
   "outputs": [
    {
     "data": {
      "text/plain": [
       "4"
      ]
     },
     "execution_count": 141,
     "metadata": {},
     "output_type": "execute_result"
    }
   ],
   "source": [
    "2+2"
   ]
  },
  {
   "cell_type": "code",
   "execution_count": 144,
   "id": "4119afa6",
   "metadata": {},
   "outputs": [
    {
     "data": {
      "text/plain": [
       "46"
      ]
     },
     "execution_count": 144,
     "metadata": {},
     "output_type": "execute_result"
    }
   ],
   "source": [
    "50-4"
   ]
  },
  {
   "cell_type": "code",
   "execution_count": 145,
   "id": "64b35c0f",
   "metadata": {},
   "outputs": [
    {
     "data": {
      "text/plain": [
       "21.5"
      ]
     },
     "execution_count": 145,
     "metadata": {},
     "output_type": "execute_result"
    }
   ],
   "source": [
    "23.5-2.0"
   ]
  },
  {
   "cell_type": "code",
   "execution_count": 146,
   "id": "c6945869",
   "metadata": {},
   "outputs": [
    {
     "data": {
      "text/plain": [
       "4.5"
      ]
     },
     "execution_count": 146,
     "metadata": {},
     "output_type": "execute_result"
    }
   ],
   "source": [
    "23-18.5"
   ]
  },
  {
   "cell_type": "code",
   "execution_count": 147,
   "id": "033cb417",
   "metadata": {},
   "outputs": [
    {
     "data": {
      "text/plain": [
       "30"
      ]
     },
     "execution_count": 147,
     "metadata": {},
     "output_type": "execute_result"
    }
   ],
   "source": [
    "5*6"
   ]
  },
  {
   "cell_type": "code",
   "execution_count": 148,
   "id": "1937167f",
   "metadata": {},
   "outputs": [
    {
     "data": {
      "text/plain": [
       "250"
      ]
     },
     "execution_count": 148,
     "metadata": {},
     "output_type": "execute_result"
    }
   ],
   "source": [
    "25*10\n"
   ]
  },
  {
   "cell_type": "code",
   "execution_count": 149,
   "id": "e5671a3d",
   "metadata": {},
   "outputs": [
    {
     "data": {
      "text/plain": [
       "6.25"
      ]
     },
     "execution_count": 149,
     "metadata": {},
     "output_type": "execute_result"
    }
   ],
   "source": [
    "2.5*2.5"
   ]
  },
  {
   "cell_type": "code",
   "execution_count": 150,
   "id": "3cce143d",
   "metadata": {},
   "outputs": [
    {
     "data": {
      "text/plain": [
       "7.0"
      ]
     },
     "execution_count": 150,
     "metadata": {},
     "output_type": "execute_result"
    }
   ],
   "source": [
    "28/4"
   ]
  },
  {
   "cell_type": "code",
   "execution_count": 151,
   "id": "2bf1dc37",
   "metadata": {},
   "outputs": [
    {
     "data": {
      "text/plain": [
       "6.5"
      ]
     },
     "execution_count": 151,
     "metadata": {},
     "output_type": "execute_result"
    }
   ],
   "source": [
    "26/4"
   ]
  },
  {
   "cell_type": "code",
   "execution_count": 152,
   "id": "5148ea0d",
   "metadata": {},
   "outputs": [
    {
     "data": {
      "text/plain": [
       "7.548387096774193"
      ]
     },
     "execution_count": 152,
     "metadata": {},
     "output_type": "execute_result"
    }
   ],
   "source": [
    "23.4/3.1"
   ]
  },
  {
   "cell_type": "markdown",
   "id": "4dde52f6",
   "metadata": {},
   "source": [
    "<p>-----------------------------------------------------------------------------------------------------------------------------------------------------------------------------------------------------------------</p>"
   ]
  },
  {
   "cell_type": "markdown",
   "id": "42d7980e",
   "metadata": {},
   "source": [
    "<h2>Activity 4</h2>"
   ]
  },
  {
   "cell_type": "code",
   "execution_count": 153,
   "id": "05769d95",
   "metadata": {},
   "outputs": [
    {
     "data": {
      "text/plain": [
       "7"
      ]
     },
     "execution_count": 153,
     "metadata": {},
     "output_type": "execute_result"
    }
   ],
   "source": [
    "28//4"
   ]
  },
  {
   "cell_type": "code",
   "execution_count": 154,
   "id": "855402e7",
   "metadata": {},
   "outputs": [
    {
     "data": {
      "text/plain": [
       "6"
      ]
     },
     "execution_count": 154,
     "metadata": {},
     "output_type": "execute_result"
    }
   ],
   "source": [
    "26//4"
   ]
  },
  {
   "cell_type": "code",
   "execution_count": 158,
   "id": "24deed52",
   "metadata": {},
   "outputs": [
    {
     "data": {
      "text/plain": [
       "6"
      ]
     },
     "execution_count": 158,
     "metadata": {},
     "output_type": "execute_result"
    }
   ],
   "source": [
    "int(26/4)"
   ]
  },
  {
   "cell_type": "code",
   "execution_count": 159,
   "id": "89f3dc44",
   "metadata": {},
   "outputs": [
    {
     "data": {
      "text/plain": [
       "7"
      ]
     },
     "execution_count": 159,
     "metadata": {},
     "output_type": "execute_result"
    }
   ],
   "source": [
    "int(28/4)"
   ]
  },
  {
   "cell_type": "code",
   "execution_count": 160,
   "id": "e2113701",
   "metadata": {},
   "outputs": [
    {
     "data": {
      "text/plain": [
       "0"
      ]
     },
     "execution_count": 160,
     "metadata": {},
     "output_type": "execute_result"
    }
   ],
   "source": [
    "28%4"
   ]
  },
  {
   "cell_type": "code",
   "execution_count": 161,
   "id": "51b33020",
   "metadata": {},
   "outputs": [
    {
     "data": {
      "text/plain": [
       "2"
      ]
     },
     "execution_count": 161,
     "metadata": {},
     "output_type": "execute_result"
    }
   ],
   "source": [
    "26%4"
   ]
  },
  {
   "cell_type": "markdown",
   "id": "0e9631b5",
   "metadata": {},
   "source": [
    "<p>-----------------------------------------------------------------------------------------------------------------------------------------------------------------------------------------------------------------</p>"
   ]
  },
  {
   "cell_type": "markdown",
   "id": "29476413",
   "metadata": {},
   "source": [
    "<h2>Activity 5</h2>"
   ]
  },
  {
   "cell_type": "code",
   "execution_count": 164,
   "id": "57fdb059",
   "metadata": {},
   "outputs": [
    {
     "data": {
      "text/plain": [
       "64"
      ]
     },
     "execution_count": 164,
     "metadata": {},
     "output_type": "execute_result"
    }
   ],
   "source": [
    "4**3"
   ]
  },
  {
   "cell_type": "code",
   "execution_count": 163,
   "id": "d3669796",
   "metadata": {},
   "outputs": [
    {
     "data": {
      "text/plain": [
       "1048576"
      ]
     },
     "execution_count": 163,
     "metadata": {},
     "output_type": "execute_result"
    }
   ],
   "source": [
    "4**10"
   ]
  },
  {
   "cell_type": "code",
   "execution_count": 165,
   "id": "79a420d9",
   "metadata": {},
   "outputs": [
    {
     "data": {
      "text/plain": [
       "288230376151711744"
      ]
     },
     "execution_count": 165,
     "metadata": {},
     "output_type": "execute_result"
    }
   ],
   "source": [
    "4**29"
   ]
  },
  {
   "cell_type": "code",
   "execution_count": 167,
   "id": "0511b08d",
   "metadata": {},
   "outputs": [
    {
     "data": {
      "text/plain": [
       "2037035976334486086268445688409378161051468393665936250636140449354381299763336706183397376"
      ]
     },
     "execution_count": 167,
     "metadata": {},
     "output_type": "execute_result"
    }
   ],
   "source": [
    "4**150"
   ]
  },
  {
   "cell_type": "code",
   "execution_count": 166,
   "id": "9d4d5ce4",
   "metadata": {},
   "outputs": [
    {
     "data": {
      "text/plain": [
       "114813069527425452423283320117768198402231770208869520047764273682576626139237031385665948631650626991844596463898746277344711896086305533142593135616665318539129989145312280000688779148240044871428926990063486244781615463646388363947317026040466353970904996558162398808944629605623311649536164221970332681344168908984458505602379484807914058900934776500429002716706625830522008132236281291761267883317206598995396418127021779858404042159853183251540889433902091920554957783589672039160081957216630582755380425583726015528348786419432054508915275783882625175435528800822842770817965453762184851149029376"
      ]
     },
     "execution_count": 166,
     "metadata": {},
     "output_type": "execute_result"
    }
   ],
   "source": [
    "4**1000"
   ]
  },
  {
   "cell_type": "markdown",
   "id": "701c2d56",
   "metadata": {},
   "source": [
    "<p>-----------------------------------------------------------------------------------------------------------------------------------------------------------------------------------------------------------------</p>"
   ]
  },
  {
   "cell_type": "markdown",
   "id": "8026b6f9",
   "metadata": {},
   "source": [
    "<h2>Activity 6</h2>"
   ]
  },
  {
   "cell_type": "code",
   "execution_count": 168,
   "id": "f28354ee",
   "metadata": {},
   "outputs": [
    {
     "data": {
      "text/plain": [
       "20"
      ]
     },
     "execution_count": 168,
     "metadata": {},
     "output_type": "execute_result"
    }
   ],
   "source": [
    "2+3*6"
   ]
  },
  {
   "cell_type": "code",
   "execution_count": 169,
   "id": "35f0029b",
   "metadata": {},
   "outputs": [
    {
     "data": {
      "text/plain": [
       "30"
      ]
     },
     "execution_count": 169,
     "metadata": {},
     "output_type": "execute_result"
    }
   ],
   "source": [
    "(2+3)*6 #Parenthesis has highest precedence or perhaps can be used for precedence enforcing"
   ]
  },
  {
   "cell_type": "code",
   "execution_count": 170,
   "id": "06e0a94e",
   "metadata": {},
   "outputs": [
    {
     "data": {
      "text/plain": [
       "28093077826734"
      ]
     },
     "execution_count": 170,
     "metadata": {},
     "output_type": "execute_result"
    }
   ],
   "source": [
    "48565878 * 578453"
   ]
  },
  {
   "cell_type": "code",
   "execution_count": 171,
   "id": "a8847714",
   "metadata": {},
   "outputs": [
    {
     "data": {
      "text/plain": [
       "4"
      ]
     },
     "execution_count": 171,
     "metadata": {},
     "output_type": "execute_result"
    }
   ],
   "source": [
    "2 +            2"
   ]
  },
  {
   "cell_type": "code",
   "execution_count": 172,
   "id": "0abb103a",
   "metadata": {},
   "outputs": [
    {
     "data": {
      "text/plain": [
       "16.0"
      ]
     },
     "execution_count": 172,
     "metadata": {},
     "output_type": "execute_result"
    }
   ],
   "source": [
    "(5 - 1) * ((7 + 1) / (3 - 1))"
   ]
  },
  {
   "cell_type": "code",
   "execution_count": 176,
   "id": "68f14dc7",
   "metadata": {},
   "outputs": [
    {
     "ename": "SyntaxError",
     "evalue": "invalid syntax (Temp/ipykernel_10428/4281351646.py, line 1)",
     "output_type": "error",
     "traceback": [
      "\u001b[1;36m  File \u001b[1;32m\"C:\\Users\\haris\\AppData\\Local\\Temp/ipykernel_10428/4281351646.py\"\u001b[1;36m, line \u001b[1;32m1\u001b[0m\n\u001b[1;33m    5+\u001b[0m\n\u001b[1;37m      ^\u001b[0m\n\u001b[1;31mSyntaxError\u001b[0m\u001b[1;31m:\u001b[0m invalid syntax\n"
     ]
    }
   ],
   "source": [
    "5+ #no operand to perform the operation with "
   ]
  },
  {
   "cell_type": "code",
   "execution_count": 175,
   "id": "5e9a191f",
   "metadata": {},
   "outputs": [
    {
     "ename": "SyntaxError",
     "evalue": "invalid syntax (Temp/ipykernel_10428/3854472213.py, line 1)",
     "output_type": "error",
     "traceback": [
      "\u001b[1;36m  File \u001b[1;32m\"C:\\Users\\haris\\AppData\\Local\\Temp/ipykernel_10428/3854472213.py\"\u001b[1;36m, line \u001b[1;32m1\u001b[0m\n\u001b[1;33m    42 + 5 + * 2\u001b[0m\n\u001b[1;37m             ^\u001b[0m\n\u001b[1;31mSyntaxError\u001b[0m\u001b[1;31m:\u001b[0m invalid syntax\n"
     ]
    }
   ],
   "source": [
    "42 + 5 + * 2 #two operators together without an operand"
   ]
  },
  {
   "cell_type": "markdown",
   "id": "b0eaf9c4",
   "metadata": {},
   "source": [
    "<p>-----------------------------------------------------------------------------------------------------------------------------------------------------------------------------------------------------------------</p>"
   ]
  },
  {
   "cell_type": "markdown",
   "id": "5e6c782e",
   "metadata": {},
   "source": [
    "<h2>Activity 7</h2>"
   ]
  },
  {
   "cell_type": "code",
   "execution_count": 181,
   "id": "84e9d82f",
   "metadata": {},
   "outputs": [
    {
     "name": "stdout",
     "output_type": "stream",
     "text": [
      "Nancy\n",
      "My lucky number is 7, what is yours?\n",
      "My lucky number is 7, what is yours?\n"
     ]
    }
   ],
   "source": [
    "# Text\n",
    "x = \"Nancy\" \n",
    "print(x)\n",
    "\n",
    "# Combine numbers and text\n",
    "s = \"My lucky number is %d, what is yours?\" % 7 \n",
    "print(s)\n",
    "\n",
    "# alternative method of combining numbers and text\n",
    "s = \"My lucky number is \" + str(7) + \", what is yours?\" \n",
    "print(s)\n"
   ]
  },
  {
   "cell_type": "markdown",
   "id": "594c6a31",
   "metadata": {},
   "source": [
    "<p>-----------------------------------------------------------------------------------------------------------------------------------------------------------------------------------------------------------------</p>"
   ]
  },
  {
   "cell_type": "markdown",
   "id": "ca8215c2",
   "metadata": {},
   "source": [
    "<h2>Activity 8</h2>"
   ]
  },
  {
   "cell_type": "code",
   "execution_count": 188,
   "id": "3152e154",
   "metadata": {},
   "outputs": [
    {
     "name": "stdout",
     "output_type": "stream",
     "text": [
      "What is your name? Haris\n",
      "Hello Haris\n",
      "What is your job? Computer Scientist\n",
      "Your job is Computer Scientist\n",
      "Give me a number? 07\n",
      "You said: 07\n"
     ]
    }
   ],
   "source": [
    "print('Hello ' + input('What is your name? ') )\n",
    "print('Your job is ' + input('What is your job? ') )\n",
    "print('You said: ' + str(input('Give me a number? ')))\n"
   ]
  },
  {
   "cell_type": "markdown",
   "id": "3882501a",
   "metadata": {},
   "source": [
    "<p>-----------------------------------------------------------------------------------------------------------------------------------------------------------------------------------------------------------------</p>"
   ]
  },
  {
   "cell_type": "markdown",
   "id": "6181abfd",
   "metadata": {},
   "source": [
    "<h2>Activity 9</h2>"
   ]
  },
  {
   "cell_type": "code",
   "execution_count": 202,
   "id": "d08cc271",
   "metadata": {},
   "outputs": [
    {
     "name": "stdout",
     "output_type": "stream",
     "text": [
      "Enter a Number4\n",
      "4 is Even\n"
     ]
    }
   ],
   "source": [
    "num = int(input(\"Enter a Number\"))\n",
    "if(num%2==0):\n",
    "    print(\"%d is Even\" %num) \n"
   ]
  },
  {
   "cell_type": "markdown",
   "id": "2d7d9468",
   "metadata": {},
   "source": [
    "<p>-----------------------------------------------------------------------------------------------------------------------------------------------------------------------------------------------------------------</p>"
   ]
  },
  {
   "cell_type": "markdown",
   "id": "b839275b",
   "metadata": {},
   "source": [
    "<h2>Activity 10</h2>"
   ]
  },
  {
   "cell_type": "code",
   "execution_count": 200,
   "id": "2e4e8b52",
   "metadata": {},
   "outputs": [
    {
     "name": "stdout",
     "output_type": "stream",
     "text": [
      "Enter a Number9\n",
      "9 is Odd\n"
     ]
    }
   ],
   "source": [
    "num = int(input(\"Enter a Number\"))\n",
    "if(num%2==0):\n",
    "    print(\"%d is Even\" %num) \n",
    "else:\n",
    "    print(\"%d is Odd\" %num) "
   ]
  },
  {
   "cell_type": "markdown",
   "id": "c17a1da9",
   "metadata": {},
   "source": [
    "<p>-----------------------------------------------------------------------------------------------------------------------------------------------------------------------------------------------------------------</p>"
   ]
  },
  {
   "cell_type": "markdown",
   "id": "246f88bd",
   "metadata": {},
   "source": [
    "<h2>Activity 11</h2>"
   ]
  },
  {
   "cell_type": "code",
   "execution_count": 211,
   "id": "8b85ac87",
   "metadata": {},
   "outputs": [
    {
     "name": "stdout",
     "output_type": "stream",
     "text": [
      "Sum is 55\n"
     ]
    }
   ],
   "source": [
    "sum=0\n",
    "i=1\n",
    "while(i<=10):\n",
    "    sum+=i\n",
    "    i+=1\n",
    "print(\"Sum is %d\" %sum)"
   ]
  },
  {
   "cell_type": "markdown",
   "id": "08d72023",
   "metadata": {},
   "source": [
    "<p>-----------------------------------------------------------------------------------------------------------------------------------------------------------------------------------------------------------------</p>"
   ]
  },
  {
   "cell_type": "markdown",
   "id": "3c3dfe80",
   "metadata": {},
   "source": [
    "<h2>Activity 12</h2>"
   ]
  },
  {
   "cell_type": "code",
   "execution_count": 217,
   "id": "1e17c1da",
   "metadata": {},
   "outputs": [
    {
     "name": "stdout",
     "output_type": "stream",
     "text": [
      "Enter a Number1\n",
      "Enter a Number2\n",
      "Enter a Number3\n",
      "Enter a Number4\n",
      "Enter a Number5\n",
      "Sum is 15\n"
     ]
    }
   ],
   "source": [
    "sum=0\n",
    "i=0\n",
    "while(i<5):\n",
    "    n=int(input(\"Enter a Number\"))\n",
    "    sum+=n\n",
    "    i+=1\n",
    "print(\"Sum is %d\" %sum)"
   ]
  },
  {
   "cell_type": "markdown",
   "id": "07a4d296",
   "metadata": {},
   "source": [
    "<p>-----------------------------------------------------------------------------------------------------------------------------------------------------------------------------------------------------------------</p>"
   ]
  },
  {
   "cell_type": "markdown",
   "id": "5553ab20",
   "metadata": {},
   "source": [
    "<h2>Activity 13</h2>"
   ]
  },
  {
   "cell_type": "code",
   "execution_count": 219,
   "id": "ce45c8b1",
   "metadata": {
    "scrolled": true
   },
   "outputs": [
    {
     "name": "stdout",
     "output_type": "stream",
     "text": [
      "Enter a number1\n",
      "Enter a number2\n",
      "Enter a number3\n",
      "Enter a number4\n",
      "Enter a number5\n",
      "Enter a number6\n",
      "Enter a number7\n",
      "Enter a number8\n",
      "Enter a number9\n",
      "Enter a number0\n",
      "Sum of value is 45\n"
     ]
    }
   ],
   "source": [
    "i = 1\n",
    "sum=0\n",
    "while(i!=0):\n",
    "    i=int(input(\"Enter a number\"))\n",
    "    sum+=i\n",
    "print(\"Sum of value is %d\" %sum)\n",
    "    "
   ]
  },
  {
   "cell_type": "markdown",
   "id": "b5f42a92",
   "metadata": {},
   "source": [
    "<p>-----------------------------------------------------------------------------------------------------------------------------------------------------------------------------------------------------------------</p>"
   ]
  },
  {
   "cell_type": "markdown",
   "id": "2b107aec",
   "metadata": {},
   "source": [
    "<h2>Activity 14</h2>"
   ]
  },
  {
   "cell_type": "code",
   "execution_count": 250,
   "id": "c64107b1",
   "metadata": {},
   "outputs": [
    {
     "name": "stdout",
     "output_type": "stream",
     "text": [
      "Enter input2\n",
      "2 is Prime\n"
     ]
    }
   ],
   "source": [
    "isPrime = True\n",
    "i=2\n",
    "n = int(input(\"Enter input\"))\n",
    "if n!=1: \n",
    "    while(i<=n/2):\n",
    "        if(n%i==0):\n",
    "            isPrime=False\n",
    "            break\n",
    "        else:\n",
    "            i+=1\n",
    "else:\n",
    "    isPrime=False\n",
    "\n",
    "if isPrime:\n",
    "    print(\"%d is Prime\"%n)\n",
    "else:\n",
    "    print(\"%d is not Pr\")"
   ]
  },
  {
   "cell_type": "markdown",
   "id": "26df2134",
   "metadata": {},
   "source": [
    "<p>-----------------------------------------------------------------------------------------------------------------------------------------------------------------------------------------------------------------</p>"
   ]
  },
  {
   "cell_type": "markdown",
   "id": "8660c915",
   "metadata": {},
   "source": [
    "<h2>Grading System</h2>"
   ]
  },
  {
   "cell_type": "code",
   "execution_count": 255,
   "id": "99d13b0d",
   "metadata": {},
   "outputs": [
    {
     "name": "stdout",
     "output_type": "stream",
     "text": [
      "Enter marks: Press -1 to quit100\n",
      "Grade A\n",
      "Enter marks: Press -1 to quit90\n",
      "Grade B\n",
      "Enter marks: Press -1 to quit91\n",
      "Grade A\n",
      "Enter marks: Press -1 to quit81\n",
      "Grade B\n",
      "Enter marks: Press -1 to quit-1\n"
     ]
    }
   ],
   "source": [
    "marks=0\n",
    "while(True):\n",
    "    marks = int(input(\"Enter marks: Press -1 to quit\"))\n",
    "    if(marks==-1):\n",
    "        break\n",
    "    elif(marks>100 or marks <1):\n",
    "        print(\"Incorrect input\")\n",
    "    elif(marks>=91 and marks<=100):\n",
    "        print(\"Grade A\")\n",
    "    elif(marks>=81 and marks<=90):\n",
    "        print(\"Grade B\")\n",
    "    elif(marks>=71 and marks<=80):\n",
    "        print(\"Grade C\")\n",
    "    elif(marks>=61 and marks<=70):\n",
    "        print(\"Grade D\")\n",
    "    elif(marks>=51 and marks<=60):\n",
    "        print(\"Grade E\")\n",
    "    else:\n",
    "        print(\"Grade F\")"
   ]
  },
  {
   "cell_type": "markdown",
   "id": "cddd889e",
   "metadata": {},
   "source": [
    "<p>-----------------------------------------------------------------------------------------------------------------------------------------------------------------------------------------------------------------</p>"
   ]
  },
  {
   "cell_type": "markdown",
   "id": "078e1bd3",
   "metadata": {},
   "source": [
    "<h2>Factorial</h2>"
   ]
  },
  {
   "cell_type": "code",
   "execution_count": 263,
   "id": "e716ffff",
   "metadata": {},
   "outputs": [
    {
     "name": "stdout",
     "output_type": "stream",
     "text": [
      "Enter number for factorial calculation: Press -1 to quit0\n",
      "1\n",
      "Enter number for factorial calculation: Press -1 to quit2\n",
      "2\n",
      "Enter number for factorial calculation: Press -1 to quit3\n",
      "6\n",
      "Enter number for factorial calculation: Press -1 to quit4\n",
      "24\n",
      "Enter number for factorial calculation: Press -1 to quit5\n",
      "120\n",
      "Enter number for factorial calculation: Press -1 to quit6\n",
      "720\n",
      "Enter number for factorial calculation: Press -1 to quit-1\n"
     ]
    }
   ],
   "source": [
    "fact=1\n",
    "while(True):\n",
    "    num = int(input(\"Enter number for factorial calculation: Press -1 to quit\"))\n",
    "    if(num==-1):\n",
    "        break\n",
    "    else:\n",
    "        for i in range(num,1,-1):\n",
    "            fact*=i\n",
    "        print(fact)\n",
    "        fact=1\n",
    "\n",
    "        "
   ]
  },
  {
   "cell_type": "markdown",
   "id": "41c38a0f",
   "metadata": {},
   "source": [
    "<p>-----------------------------------------------------------------------------------------------------------------------------------------------------------------------------------------------------------------</p>"
   ]
  },
  {
   "cell_type": "markdown",
   "id": "b51c9887",
   "metadata": {},
   "source": [
    "\n",
    "<h2>Fibonacci series</h2>"
   ]
  },
  {
   "cell_type": "code",
   "execution_count": 139,
   "id": "ffe48d24",
   "metadata": {
    "scrolled": false
   },
   "outputs": [
    {
     "name": "stdout",
     "output_type": "stream",
     "text": [
      "Enter Number\n",
      "10\n",
      "0 1 1 2 3 5 8 13 21 34 55\n"
     ]
    }
   ],
   "source": [
    "def fib(n):\n",
    "    if(n.isdigit()):\n",
    "        n=int(n)\n",
    "        previous=0\n",
    "        current=1\n",
    "        fib=0\n",
    "        ans='0 1'\n",
    "        if(n<0):\n",
    "            print(\"Input Can't be Negative\")\n",
    "            return\n",
    "        elif(n==0):\n",
    "            print(0)\n",
    "            return\n",
    "        elif(n==1):\n",
    "            print(ans)\n",
    "            return\n",
    "        else:    \n",
    "            for i in range(2,n+1):\n",
    "                fib = previous + current\n",
    "                previous = current\n",
    "                current = fib\n",
    "                ans=ans+\" \"+str(fib)\n",
    "        print(ans)\n",
    "    else:\n",
    "        print(\"Invalid Input\")\n",
    "\n",
    "\n",
    "print(\"Enter Number\")\n",
    "fib(input())\n"
   ]
  }
 ],
 "metadata": {
  "kernelspec": {
   "display_name": "Python 3 (ipykernel)",
   "language": "python",
   "name": "python3"
  },
  "language_info": {
   "codemirror_mode": {
    "name": "ipython",
    "version": 3
   },
   "file_extension": ".py",
   "mimetype": "text/x-python",
   "name": "python",
   "nbconvert_exporter": "python",
   "pygments_lexer": "ipython3",
   "version": "3.8.11"
  }
 },
 "nbformat": 4,
 "nbformat_minor": 5
}
