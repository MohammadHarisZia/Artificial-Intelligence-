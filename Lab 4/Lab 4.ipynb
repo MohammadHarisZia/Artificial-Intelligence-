{
 "cells": [
  {
   "cell_type": "markdown",
   "id": "b4835d43",
   "metadata": {},
   "source": [
    "<h1>Lab 4</h1>\n"
   ]
  },
  {
   "cell_type": "markdown",
   "id": "6a12c13c",
   "metadata": {},
   "source": [
    "<h3>UCF</h3>"
   ]
  },
  {
   "cell_type": "code",
   "execution_count": 10,
   "id": "ecc84583",
   "metadata": {},
   "outputs": [
    {
     "name": "stdout",
     "output_type": "stream",
     "text": [
      "['C', 'F', 'D', 'B']\n"
     ]
    }
   ],
   "source": [
    "import math\n",
    "\n",
    "def findMin(frontier):\n",
    "    minV=math.inf\n",
    "    node=''\n",
    "    for i in frontier:\n",
    "        if minV>frontier[i][1]:\n",
    "            minV=frontier[i][1]\n",
    "            node=i\n",
    "    return node\n",
    "\n",
    "def actionSequence(graph,initialState,goalState):\n",
    "    solution=[goalState]\n",
    "    currentParent=graph[goalState].parent\n",
    "    while currentParent!=None:\n",
    "        solution.append(currentParent)\n",
    "        currentParent=graph[currentParent].parent\n",
    "    solution.reverse()\n",
    "    return solution\n",
    "\n",
    "\n",
    "class Node:\n",
    "    def __init__(self,state,parent,actions,totalCost):\n",
    "        self.state=state\n",
    "        self.parent=parent\n",
    "        self.actions=actions\n",
    "        self.totalCost=totalCost\n",
    "        \n",
    "\n",
    "        \n",
    "        \n",
    "graph={'A':Node('A',None,[('B',6),('C',9),('E',1)],0),\n",
    "       'B':Node('B',None,[('A',6),('D',3),('E',4)],0),\n",
    "       'C':Node('C',None,[('A',9),('F',2),('G',3)],0),\n",
    "       'D':Node('D',None,[('B',3),('E',5),('F',7)],0),\n",
    "       'E':Node('E',None,[('A',1),('B',4),('D',5),('F',6)],0),\n",
    "       'F':Node('F',None,[('C',2),('E',6),('D',7)],0),\n",
    "       'G':Node('G',None,[('C',3)],0)}\n",
    "\n",
    "\n",
    "def UCS():\n",
    "    initialState='C'\n",
    "    goalState='B'\n",
    "    \n",
    "    \n",
    "    frontier = dict()\n",
    "    frontier[initialState] = (None,0)\n",
    "    explored=[]\n",
    "    \n",
    "    while len(frontier)!=0:\n",
    "        currentNode =findMin(frontier)\n",
    "        del frontier[currentNode]\n",
    "        if graph[currentNode].state==goalState:\n",
    "            return actionSequence(graph,initialState,goalState)\n",
    "        explored.append(currentNode)\n",
    "        for child in graph[currentNode].actions:\n",
    "            currentCost=child[1]+graph[currentNode].totalCost\n",
    "            if child[0] not in frontier and child[0] not in explored:\n",
    "                graph[child[0]].parent=currentNode\n",
    "                graph[child[0]].totalCost=currentCost\n",
    "                frontier[child[0]]=(graph[child[0]].parent,graph[child[0]].totalCost)\n",
    "            elif child[0] in frontier:\n",
    "                if frontier[child[0]][1]<currentCost:\n",
    "                    graph[child[0]].parent=frontier[child[0]][0]\n",
    "                    graph[child[0]].totalCost=frontier[child[0]][1]\n",
    "                else:\n",
    "                    frontier[child[0]]=(currentNode,currentCost)\n",
    "                    graph[child[0]].parent=frontier[child[0]][0]\n",
    "                    graph[child[0]].totalCost=frontier[child[0]][1]\n",
    "\n",
    "solution=UCS()\n",
    "print(solution)\n",
    "                "
   ]
  },
  {
   "cell_type": "markdown",
   "id": "66b68eaf",
   "metadata": {},
   "source": [
    "<h3>DFS</h3>"
   ]
  },
  {
   "cell_type": "code",
   "execution_count": 13,
   "id": "06021565",
   "metadata": {},
   "outputs": [
    {
     "name": "stdout",
     "output_type": "stream",
     "text": [
      "['A', 'E', 'D']\n"
     ]
    }
   ],
   "source": [
    "def DFS():\n",
    "    initialState='A'\n",
    "    goalState='D'\n",
    "    \n",
    "    graph={'A':Node('A',None,['B','C','E'],None),\n",
    "       'B':Node('B',None,['A','D','E'],None),\n",
    "       'C':Node('C',None,['A','F','G'],None),\n",
    "       'D':Node('D',None,['B','E'],None),\n",
    "       'E':Node('E',None,['A','B','D'],None),\n",
    "       'F':Node('F',None,['C'],None),\n",
    "       'G':Node('G',None,['C'],None)}\n",
    "    \n",
    "    \n",
    "    frontier=[initialState]\n",
    "    explored=[]\n",
    "    \n",
    "    while len(frontier)!=0:\n",
    "        currentNode=frontier.pop(len(frontier)-1)\n",
    "        explored.append(currentNode)\n",
    "        currentChildren=0\n",
    "        for child in graph[currentNode].actions:\n",
    "            if child not in frontier and child not in explored:\n",
    "                graph[child].parent=currentNode\n",
    "                if graph[child].state==goalState:\n",
    "                    return actionSequence(graph,initialState,goalState)\n",
    "                currentChildren=currentChildren+1\n",
    "                frontier.append(child)\n",
    "        if currentChildren==0:\n",
    "            del explored[len(explored)-1]\n",
    "\n",
    "    \n",
    "solution=DFS()\n",
    "print(solution)"
   ]
  },
  {
   "cell_type": "code",
   "execution_count": null,
   "id": "3a6abe87",
   "metadata": {},
   "outputs": [],
   "source": []
  }
 ],
 "metadata": {
  "kernelspec": {
   "display_name": "Python 3",
   "language": "python",
   "name": "python3"
  },
  "language_info": {
   "codemirror_mode": {
    "name": "ipython",
    "version": 3
   },
   "file_extension": ".py",
   "mimetype": "text/x-python",
   "name": "python",
   "nbconvert_exporter": "python",
   "pygments_lexer": "ipython3",
   "version": "3.8.8"
  }
 },
 "nbformat": 4,
 "nbformat_minor": 5
}
