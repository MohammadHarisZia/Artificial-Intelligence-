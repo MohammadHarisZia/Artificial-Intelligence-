{
 "cells": [
  {
   "cell_type": "markdown",
   "metadata": {},
   "source": [
    "# Genetic Algorithm\n",
    "\n",
    "Consider maxOne problem where the goal is to arrange a string of L bits into all ones. \n",
    "At first the solution may seem trivial i.e., for L=8 the solution is [1, 1, 1, 1, 1, 1, 1, 1]. Despite this we shall see how many iterations it will take for an instance of genetic algorithm to find the solution."
   ]
  },
  {
   "cell_type": "markdown",
   "metadata": {},
   "source": [
    "We start by looking at the GA class which is instantiated by providing individualSize (length of chromosome or L in our case) and populationSize (how many survivors will we retain in each generation). The instance variable population is a dictionary of items where each item contains a bit array of an individual and its heuristic distance from the goal. The variable totalFitness maintains the total heuristic value of each generation/population."
   ]
  },
  {
   "cell_type": "code",
   "execution_count": null,
   "metadata": {},
   "outputs": [],
   "source": [
    "# To Do:\n",
    "# Create a class here that can represent a GA individual\n",
    "\n",
    "class maxOne:\n",
    "def __init__ (self, individualSize, populationSize): \n",
    "        self.population=dict()\n",
    "        self.individualSize = individualSize \n",
    "        self.populationSize = populationSize \n",
    "        self.totalFitness=0"
   ]
  },
  {
   "cell_type": "markdown",
   "metadata": {},
   "source": [
    "Whenever we update current population, we also update the heuristic value of each individual/state/chromosome. This is done using method updatePopulationFitness(). The individual fitness/heuristic value is calculated as simply the number of ones in an array of an individual. The goal is to maximize this value generation after generation."
   ]
  },
  {
   "cell_type": "code",
   "execution_count": null,
   "metadata": {},
   "outputs": [],
   "source": [
    "# To DO:\n",
    "# Create a function to update the fitness function for each individual of the population\n",
    "\n",
    "\n",
    "def updatePopulationFitness(self): \n",
    "        self.totalFitness = 0\n",
    "        for individual in self.population: \n",
    "            individualFitness=self.updateIndividualFitness(self.population[individual][0]) \n",
    "            self.population[individual][1] = individualFitness \n",
    "            self.totalFitness = self.totalFitness + individualFitness\n",
    "\n",
    "def updateIndividualFitness(self, individualArray):\n",
    "        i=0\n",
    "        fitnessValue=0\n",
    "        while i< self.individualSize:\n",
    "            \n",
    "            i=i+1\n",
    "        return fitnessValue "
   ]
  },
  {
   "cell_type": "markdown",
   "metadata": {},
   "source": [
    "We now focus on how to select parents for reproduction. This is done using roulette wheel implementation. We first determine the size of the roulette wheel i.e., how many values will it store. This is simply set as 5 times the size of population, e.g., if we consider that we will retain 10 survivors at each generation then the size of the wheel is 50. We now have to fill these 50 values based upon the fitness value of each of those 10 individuals. This is done by calculating the probability of occurrence (h/sum(h)) of each individual. The variable individualLength determines how many values out of those 50 belong to that specific individual. Finally we generate random locations from roulette wheel populationSize times and select individuals based upon that. Those individuals now replace the original population."
   ]
  },
  {
   "cell_type": "code",
   "execution_count": null,
   "metadata": {},
   "outputs": [],
   "source": [
    "# To DO:\n",
    "# Create a function to select parents for new population\n",
    "# You can reuse the function form last lab here\n",
    "#\n",
    "def selectParents(self):\n",
    "        rouletteWheel=[]\n",
    "        wheelSize=self.populationSize*5\n",
    "        h_n=[]\n",
    "        for individual in self.population:\n",
    "            h_n.append(1/self.population[individual][1])\n",
    "        j=0\n",
    "        for individual in self.population:\n",
    "            individualFitness=round(wheelSize*(h_n[j]/sum(h_n)))\n",
    "            j=j+1\n",
    "            if individualFitness>0:\n",
    "                i=0\n",
    "            while i < individualFitness:\n",
    "                rouletteWheel.append(individual)\n",
    "                i=i+1\n",
    "        random.shuffle(rouletteWheel)\n",
    "        parentIndices=[]\n",
    "        i=0\n",
    "        while i< self.populationSize:\n",
    "            parentIndices.append(rouletteWheel[random.randint(0, len(rouletteWheel)-1)])\n",
    "            i=i+1\n",
    "        newGeneration=dict()\n",
    "        i=0\n",
    "        while i < self.populationSize:\n",
    "            newGeneration[i]=self.population[parentIndices[i]].copy()\n",
    "            i=i+1\n",
    "        del self.population\n",
    "        self.population = newGeneration.copy()\n",
    "        self.updatePopulationFitness()\n",
    "        "
   ]
  },
  {
   "cell_type": "markdown",
   "metadata": {},
   "source": [
    "We now come to the method generateChildren() which gerates children based upon crossover. A crossover probability is provided as input. For population size of 8 and crossover probability of 0.8 for instance, we need to do the crossover only between 80% of the 4 pairs i.e., we will do crossover only with 3 pairs and will take a pair as it is to next step (which is mutation). After doing crossover, we also update the fitness value of that child (although this shouldn’t be required since we are already calling updatePopulationFitness method at the end). "
   ]
  },
  {
   "cell_type": "code",
   "execution_count": null,
   "metadata": {},
   "outputs": [],
   "source": [
    "# To DO:\n",
    "# Create a function to generate new population\n",
    "#\n",
    "#\n",
    "def generateChildren(self, crossoverProbability):\n",
    "        numberOfPairs = round(crossoverProbability*self.populationSize/2)\n",
    "        individualIndices = list(range(0,self.populationSize))\n",
    "        random.shuffle(individualIndices)\n",
    "        i=0\n",
    "        j=0\n",
    "        while i<numberOfPairs:\n",
    "            crossoverPoint=random.randint(0, self.individualSize-1)\n",
    "            child1=self.population[j][0][0:crossoverPoint] +self.population[j+1][0][crossoverPoint:]\n",
    "            child2=self.population[j+1][0][0:crossoverPoint]+self.population[j][0][crossoverPoint:]\n",
    "            self.population[j] = [child1, 0]\n",
    "            self.population[j+1] = [child2, 0]\n",
    "            i=i+1\n",
    "            j=j+2\n",
    "            self.updatePopulationFitness()\n",
    "            "
   ]
  },
  {
   "cell_type": "markdown",
   "metadata": {},
   "source": [
    "The next step is to mutate the population (not individual child) based upon a certain mutation probability provided as an input. For example, for individualSize of 5 bits and populationSize of 8 and a probability of 0.05, we need to swap 5% of those 8*5=40 bits, i.e., round(0.05*40) bits will be swapped."
   ]
  },
  {
   "cell_type": "code",
   "execution_count": null,
   "metadata": {},
   "outputs": [],
   "source": [
    "# To Do:\n",
    "# Write code for population mutation\n",
    "# You can use code from last lab here\n",
    "#\n",
    "\n",
    "def mutateChildren(self, mutationProbability):\n",
    "        numberOfBits = round(mutationProbability*self.populationSize*self.individualSize)\n",
    "        totalIndices = list(range(0,self.populationSize*self.individualSize))\n",
    "        random.shuffle(totalIndices)\n",
    "        swapLocations = random.sample(totalIndices,numberOfBits)\n",
    "        for loc in swapLocations:\n",
    "            individualIndex=math.floor(loc/self.individualSize)\n",
    "            bitIndex=math.floor(loc%self.individualSize)\n",
    "            value = random.randint(0, 1)\n",
    "            while value==self.population[individualIndex][0][bitIndex]:\n",
    "                value = random.randint(0, 1)\n",
    "            self.population[individualIndex][0][bitIndex]=value\n",
    "        self.updatePopulationFitness()\n",
    "    "
   ]
  },
  {
   "cell_type": "markdown",
   "metadata": {},
   "source": [
    "Now run the function using an appropriate termination criteria"
   ]
  },
  {
   "cell_type": "code",
   "execution_count": null,
   "metadata": {},
   "outputs": [],
   "source": [
    "# To Do:\n",
    "# Write the main function here\n",
    "\n",
    "individualSize, populationSize = 8, 16\n",
    "i=0\n",
    "instance = maxOne(individualSize,populationSize)\n",
    "while True:\n",
    "    instance.selectParents()\n",
    "    instance.generateChildren(0.5)\n",
    "    instance.mutateChildren(0.03)\n",
    "    if i%20==0:\n",
    "        print(instance.population)\n",
    "        print(instance.totalFitness)\n",
    "        print(i)\n",
    "    i=i+1\n",
    "    found=False\n",
    "    for individual in instance.population:\n",
    "        if instance.population[individual][1]==0:\n",
    "            found=True\n",
    "            break\n",
    "    if found:\n",
    "        print(instance.population)\n",
    "        print(instance.totalFitness)\n",
    "        print(i)\n",
    "        break\n",
    "        \n",
    "        "
   ]
  },
  {
   "cell_type": "code",
   "execution_count": 1,
   "metadata": {},
   "outputs": [
    {
     "name": "stdout",
     "output_type": "stream",
     "text": [
      "{0: [[0, 0, 0, 0, 0, 0, 0, 0], 0], 1: [[0, 1, 0, 0, 0, 0, 0, 1], 2], 2: [[1, 0, 1, 0, 0, 0, 0, 0], 2], 3: [[0, 1, 1, 1, 0, 1, 0, 0], 4], 4: [[0, 1, 1, 1, 0, 1, 1, 0], 5], 5: [[1, 1, 1, 1, 1, 1, 1, 1], 8], 6: [[1, 1, 1, 0, 0, 0, 1, 0], 4], 7: [[0, 1, 0, 0, 0, 1, 1, 0], 3], 8: [[1, 0, 0, 0, 0, 0, 0, 1], 2], 9: [[1, 1, 0, 0, 0, 0, 1, 0], 3], 10: [[1, 0, 0, 0, 0, 0, 0, 1], 2], 11: [[1, 0, 0, 0, 0, 0, 0, 1], 2], 12: [[0, 0, 1, 0, 1, 1, 0, 0], 3], 13: [[0, 1, 0, 1, 1, 0, 0, 1], 4], 14: [[0, 1, 0, 0, 0, 0, 0, 0], 1], 15: [[1, 0, 0, 0, 0, 0, 0, 1], 2]}\n",
      "47\n",
      "0\n",
      "{0: [[0, 0, 0, 0, 0, 0, 0, 0], 0], 1: [[0, 1, 0, 0, 0, 0, 0, 1], 2], 2: [[1, 0, 1, 0, 0, 0, 0, 0], 2], 3: [[0, 1, 1, 1, 0, 1, 0, 0], 4], 4: [[0, 1, 1, 1, 0, 1, 1, 0], 5], 5: [[1, 1, 1, 1, 1, 1, 1, 1], 8], 6: [[1, 1, 1, 0, 0, 0, 1, 0], 4], 7: [[0, 1, 0, 0, 0, 1, 1, 0], 3], 8: [[1, 0, 0, 0, 0, 0, 0, 1], 2], 9: [[1, 1, 0, 0, 0, 0, 1, 0], 3], 10: [[1, 0, 0, 0, 0, 0, 0, 1], 2], 11: [[1, 0, 0, 0, 0, 0, 0, 1], 2], 12: [[0, 0, 1, 0, 1, 1, 0, 0], 3], 13: [[0, 1, 0, 1, 1, 0, 0, 1], 4], 14: [[0, 1, 0, 0, 0, 0, 0, 0], 1], 15: [[1, 0, 0, 0, 0, 0, 0, 1], 2]}\n",
      "47\n",
      "1\n"
     ]
    }
   ],
   "source": [
    "import random\n",
    "import math\n",
    "\n",
    "class maxOne:\n",
    "    def __init__ (self,individualSize,populationSize):\n",
    "        self.population=dict()\n",
    "        self.individualSize = individualSize \n",
    "        self.populationSize = populationSize \n",
    "        self.totalFitness=0\n",
    "        i=0\n",
    "        while i < populationSize:\n",
    "            individualArray = [0] * individualSize \n",
    "            j=0\n",
    "            while j < individualSize:\n",
    "                value = random.randint(0,1)\n",
    "                individualArray[j]=value\n",
    "                j=j+1\n",
    "            self.population[i]=[individualArray.copy(),0]\n",
    "            i=i+1\n",
    "        self.updatePopulationFitness()\n",
    "        \n",
    "    def updateIndividualFitness(self, individualArray):\n",
    "        return individualArray.count(1)\n",
    "    def updatePopulationFitness(self): \n",
    "            self.totalFitness = 0\n",
    "            for individual in self.population: \n",
    "                individualFitness=self.updateIndividualFitness(self.population[individual][0]) \n",
    "                self.population[individual][1] = individualFitness \n",
    "                self.totalFitness = self.totalFitness + individualFitness\n",
    "    def selectParents(self):\n",
    "        rouletteWheel=[]\n",
    "        wheelSize=self.populationSize*5\n",
    "        h_n=[]\n",
    "        for individual in self.population:\n",
    "            h_n.append(1/self.population[individual][1])\n",
    "        j=0\n",
    "        for individual in self.population:\n",
    "            individualFitness=round(wheelSize*(h_n[j]/sum(h_n)))\n",
    "            j=j+1\n",
    "            if individualFitness>0:\n",
    "                i=0\n",
    "            while i < individualFitness:\n",
    "                rouletteWheel.append(individual)\n",
    "                i=i+1\n",
    "        random.shuffle(rouletteWheel)\n",
    "        parentIndices=[]\n",
    "        i=0\n",
    "        while i< self.populationSize:\n",
    "            parentIndices.append(rouletteWheel[random.randint(0, len(rouletteWheel)-1)])\n",
    "            i=i+1\n",
    "        newGeneration=dict()\n",
    "        i=0\n",
    "        while i < self.populationSize:\n",
    "            newGeneration[i]=self.population[parentIndices[i]].copy()\n",
    "            i=i+1\n",
    "        del self.population\n",
    "        self.population = newGeneration.copy()\n",
    "        self.updatePopulationFitness()\n",
    "        \n",
    "    def generateChildren(self, crossoverProbability):\n",
    "        numberOfPairs = round(crossoverProbability*self.populationSize/2)\n",
    "        individualIndices = list(range(0,self.populationSize))\n",
    "        random.shuffle(individualIndices)\n",
    "        i=0\n",
    "        j=0\n",
    "        while i<numberOfPairs:\n",
    "            crossoverPoint=random.randint(0, self.individualSize-1)\n",
    "            child1=self.population[j][0][0:crossoverPoint] +self.population[j+1][0][crossoverPoint:]\n",
    "            child2=self.population[j+1][0][0:crossoverPoint]+self.population[j][0][crossoverPoint:]\n",
    "            self.population[j] = [child1, 0]\n",
    "            self.population[j+1] = [child2, 0]\n",
    "            i=i+1\n",
    "            j=j+2\n",
    "            self.updatePopulationFitness()\n",
    "            \n",
    "    def mutateChildren(self, mutationProbability):\n",
    "        numberOfBits = round(mutationProbability*self.populationSize*self.individualSize)\n",
    "        totalIndices = list(range(0,self.populationSize*self.individualSize))\n",
    "        random.shuffle(totalIndices)\n",
    "        swapLocations = random.sample(totalIndices,numberOfBits)\n",
    "        for loc in swapLocations:\n",
    "            individualIndex=math.floor(loc/self.individualSize)\n",
    "            bitIndex=math.floor(loc%self.individualSize)\n",
    "            value = random.randint(0, 1)\n",
    "            while value==self.population[individualIndex][0][bitIndex]:\n",
    "                value = random.randint(0, 1)\n",
    "            self.population[individualIndex][0][bitIndex]=value\n",
    "        self.updatePopulationFitness()\n",
    "    \n",
    "individualSize, populationSize = 8, 16\n",
    "i=0\n",
    "instance = maxOne(individualSize,populationSize)\n",
    "while True:\n",
    "    instance.selectParents()\n",
    "    instance.generateChildren(0.5)\n",
    "    instance.mutateChildren(0.03)\n",
    "    if i%20==0:\n",
    "        print(instance.population)\n",
    "        print(instance.totalFitness)\n",
    "        print(i)\n",
    "    i=i+1\n",
    "    found=False\n",
    "    for individual in instance.population:\n",
    "        if instance.population[individual][1]==0:\n",
    "            found=True\n",
    "            break\n",
    "    if found:\n",
    "        print(instance.population)\n",
    "        print(instance.totalFitness)\n",
    "        print(i)\n",
    "        break\n",
    "        \n",
    "        "
   ]
  }
 ],
 "metadata": {
  "interpreter": {
   "hash": "97d0cd21991fde4691c25b42b1811289d82172eb082c537ec0c714dc9b9d1196"
  },
  "kernelspec": {
   "display_name": "Python 3.8.11 64-bit ('Test': conda)",
   "name": "python3"
  },
  "language_info": {
   "codemirror_mode": {
    "name": "ipython",
    "version": 3
   },
   "file_extension": ".py",
   "mimetype": "text/x-python",
   "name": "python",
   "nbconvert_exporter": "python",
   "pygments_lexer": "ipython3",
   "version": "3.8.11"
  }
 },
 "nbformat": 4,
 "nbformat_minor": 4
}
