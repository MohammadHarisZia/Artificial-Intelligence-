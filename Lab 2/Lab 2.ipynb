{
 "cells": [
  {
   "cell_type": "markdown",
   "id": "02839d27",
   "metadata": {},
   "source": [
    "<h1>Lab 2 Activities </h1>"
   ]
  },
  {
   "cell_type": "markdown",
   "id": "6e020438",
   "metadata": {},
   "source": [
    "<h3>Activity 1</h3>\n"
   ]
  },
  {
   "cell_type": "code",
   "execution_count": 15,
   "id": "ddb48ef1",
   "metadata": {
    "scrolled": true
   },
   "outputs": [
    {
     "name": "stdout",
     "output_type": "stream",
     "text": [
      "Enter the number of values you need the list to have3\n",
      "Enter the Value for first list1\n",
      "Enter the Value for first list2\n",
      "Enter the Value for first list3\n",
      "Enter the Value for first list4\n",
      "Enter the Value for first list5\n",
      "Enter the Value for first list6\n",
      "[1, 3, 5, 2, 4, 6]\n"
     ]
    }
   ],
   "source": [
    "list1 = []\n",
    "list2 = []\n",
    "num = eval(input(\"Enter the number of values you need the list to have\"))\n",
    "for i in range (num):\n",
    "        value1=eval(input(\"Enter the Value for first list\"))\n",
    "        value2=eval(input(\"Enter the Value for first list\"))\n",
    "        list1.append(value1)\n",
    "        list2.append(value2)\n",
    "print(list1+list2)"
   ]
  },
  {
   "cell_type": "markdown",
   "id": "31c8f40e",
   "metadata": {},
   "source": [
    "<h3>Activity 2</h3>\n"
   ]
  },
  {
   "cell_type": "code",
   "execution_count": 19,
   "id": "3dfef107",
   "metadata": {},
   "outputs": [
    {
     "name": "stdout",
     "output_type": "stream",
     "text": [
      "Enter the number of values you need the list to have3\n",
      "Enter the Value for first list8\n",
      "Enter the Value for first list7\n",
      "Enter the Value for first list2\n",
      "[8, 7, 2]\n",
      "Enter the number you want to find in the list4\n",
      "Value Not Found\n"
     ]
    }
   ],
   "source": [
    "list1 = []\n",
    "num = eval(input(\"Enter the number of values you need the list to have\"))\n",
    "for i in range (num):\n",
    "        value1=eval(input(\"Enter the Value for first list\"))\n",
    "        list1.append(value1)\n",
    "print(list1)\n",
    "val = eval(input(\"Enter the number you want to find in the list\"))\n",
    "found = val in list1\n",
    "\n",
    "if found==True:\n",
    "    print(\"Value Found\")\n",
    "else:\n",
    "    print(\"Value Not Found\")\n"
   ]
  },
  {
   "cell_type": "markdown",
   "id": "c2ca3d0f",
   "metadata": {},
   "source": [
    "<h3>Activity 3</h3>\n"
   ]
  },
  {
   "cell_type": "code",
   "execution_count": 22,
   "id": "ad211fcc",
   "metadata": {},
   "outputs": [
    {
     "name": "stdout",
     "output_type": "stream",
     "text": [
      "Hello haris\n",
      "Hello ali hamza\n",
      "Hello moeed\n"
     ]
    }
   ],
   "source": [
    "def say_hello(name):\n",
    "    print(\"Hello \"+name)\n",
    "    \n",
    "say_hello(\"haris\")\n",
    "say_hello(\"ali hamza\")\n",
    "say_hello(\"moeed\")"
   ]
  },
  {
   "cell_type": "markdown",
   "id": "97baa9d7",
   "metadata": {},
   "source": [
    "<h3>Activity 4</h3>\n"
   ]
  },
  {
   "cell_type": "code",
   "execution_count": 25,
   "id": "7f08e85d",
   "metadata": {},
   "outputs": [
    {
     "name": "stdout",
     "output_type": "stream",
     "text": [
      "15.867444035869614\n"
     ]
    }
   ],
   "source": [
    "def perimeter(list):\n",
    "    l=len(list)\n",
    "    perimeter=0\n",
    "    for i in range(0,l-1):\n",
    "        perimeter+=(((list[i][0]-list[i+1][0])**2+(list[i][1]-list[i+1][1])**2)**0.5)\n",
    "    perimeter+=(((list[0][0]-list[l-1][0])**2+(list[0][1]-list[l-1][1])**2)**0.5)\n",
    "    return perimeter\n",
    "L=[(1,3),(2,7),(3,9),(-1,8)]\n",
    "print(perimeter(L))"
   ]
  },
  {
   "cell_type": "markdown",
   "id": "c9fba982",
   "metadata": {},
   "source": [
    "<h3>Activity 5</h3>\n"
   ]
  },
  {
   "cell_type": "code",
   "execution_count": 52,
   "id": "f13717f1",
   "metadata": {},
   "outputs": [
    {
     "name": "stdout",
     "output_type": "stream",
     "text": [
      "{'spam': 3}\n",
      "{'spam': 3, 'eggs': 2}\n",
      "d has 2 items\n",
      "keys: ['spam', 'eggs']\n",
      "values: [3, 2]\n",
      "spam 3\n",
      "Not in dictionary\n",
      "eggs 2\n",
      "Not in dictionary\n",
      "{'spam': 3}\n"
     ]
    }
   ],
   "source": [
    "d = {}\n",
    "d[\"spam\"]=3\n",
    "print(d)\n",
    "d.update({\"eggs\":2})\n",
    "print(d)\n",
    "print(\"d has\",len(d),\"items\")\n",
    "print(\"keys:\",list(d.keys()))\n",
    "print(\"values:\",list(d.values()))\n",
    "for key in d:\n",
    "    print(key,d[key])\n",
    "    print(d.get(\"toast\",\"Not in dictionary\"))\n",
    "del(d[\"eggs\"])\n",
    "print(d)"
   ]
  },
  {
   "cell_type": "code",
   "execution_count": 52,
   "id": "fe6dac8a",
   "metadata": {},
   "outputs": [
    {
     "name": "stdout",
     "output_type": "stream",
     "text": [
      "{'spam': 3}\n",
      "{'spam': 3, 'eggs': 2}\n",
      "d has 2 items\n",
      "keys: ['spam', 'eggs']\n",
      "values: [3, 2]\n",
      "spam 3\n",
      "Not in dictionary\n",
      "eggs 2\n",
      "Not in dictionary\n",
      "{'spam': 3}\n"
     ]
    }
   ],
   "source": [
    "d = {}\n",
    "d[\"spam\"]=3\n",
    "print(d)\n",
    "d.update({\"eggs\":2})\n",
    "print(d)\n",
    "print(\"d has\",len(d),\"items\")\n",
    "print(\"keys:\",list(d.keys()))\n",
    "print(\"values:\",list(d.values()))\n",
    "for key in d:\n",
    "    print(key,d[key])\n",
    "    print(d.get(\"toast\",\"Not in dictionary\"))\n",
    "del(d[\"eggs\"])\n",
    "print(d)"
   ]
  },
  {
   "cell_type": "markdown",
   "id": "741bc082",
   "metadata": {},
   "source": [
    "<h3>Activity 6</h3>\n"
   ]
  },
  {
   "cell_type": "code",
   "execution_count": 66,
   "id": "936a30e4",
   "metadata": {},
   "outputs": [
    {
     "name": "stdout",
     "output_type": "stream",
     "text": [
      "Enter the person's age group(child,minor,adult ot senior):child\n",
      "The admission fee is 0 dollars.\n"
     ]
    }
   ],
   "source": [
    "def determineAdmissionFee(ageGroup):\n",
    "    dict = {\"child\":0, \"minor\":5, \"adult\":10, \"senior\":8}\n",
    "    return dict[ageGroup]\n",
    "\n",
    "print(\"Enter the person's age group\",end=\"\")\n",
    "ageGroup=input(\"(child,minor,adult ot senior):\")\n",
    "print(\"The admission fee is\",determineAdmissionFee(ageGroup),\"dollars.\")    "
   ]
  },
  {
   "cell_type": "markdown",
   "id": "b9d2d8ef",
   "metadata": {},
   "source": [
    "<h2>Home Activities</h2>"
   ]
  },
  {
   "cell_type": "markdown",
   "id": "dffd7896",
   "metadata": {},
   "source": [
    "<h3>Activity 1<h3>"
   ]
  },
  {
   "cell_type": "code",
   "execution_count": 83,
   "id": "2bfd2653",
   "metadata": {},
   "outputs": [
    {
     "name": "stdout",
     "output_type": "stream",
     "text": [
      "Enter a sentencehelllllo\n",
      "[('l', 5), ('e', 1), ('h', 1), ('o', 1)]\n"
     ]
    }
   ],
   "source": [
    "sen=input(\"Enter a sentence\")\n",
    "li={}\n",
    "for i in range (128):\n",
    "    if(i==32):\n",
    "        continue\n",
    "        \n",
    "    letter=chr(i)\n",
    "    if letter in sen:\n",
    "        li.update({letter:sen.count(letter)})\n",
    "\n",
    "print(sorted(li.items(),key=lambda x:x[1],reverse = True))\n",
    "    "
   ]
  },
  {
   "cell_type": "code",
   "execution_count": 113,
   "id": "3458cf86",
   "metadata": {},
   "outputs": [
    {
     "name": "stdout",
     "output_type": "stream",
     "text": [
      "-1.000000082740371\n",
      "-1.0\n"
     ]
    }
   ],
   "source": [
    "import math\n",
    "x=math.pi\n",
    "h=0.000000001\n",
    "sin_derivative=(math.sin(x+h)-math.sin(x))/h\n",
    "print(sin_derivative)\n",
    "print(math.cos(x))\n"
   ]
  }
 ],
 "metadata": {
  "kernelspec": {
   "display_name": "Python 3",
   "language": "python",
   "name": "python3"
  },
  "language_info": {
   "codemirror_mode": {
    "name": "ipython",
    "version": 3
   },
   "file_extension": ".py",
   "mimetype": "text/x-python",
   "name": "python",
   "nbconvert_exporter": "python",
   "pygments_lexer": "ipython3",
   "version": "3.8.8"
  }
 },
 "nbformat": 4,
 "nbformat_minor": 5
}
