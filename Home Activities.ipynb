{
 "cells": [
  {
   "cell_type": "markdown",
   "id": "daecc57b",
   "metadata": {},
   "source": [
    "\n",
    "<h2>Fibonacci series</h2>"
   ]
  },
  {
   "cell_type": "code",
   "execution_count": 5,
   "id": "505e4dd3",
   "metadata": {
    "scrolled": true
   },
   "outputs": [
    {
     "name": "stdout",
     "output_type": "stream",
     "text": [
      "Enter Number\n",
      "10\n",
      "0 1 1 2 3 5 8 13 21 34 55\n"
     ]
    }
   ],
   "source": [
    "def fib(n):\n",
    "    if(n.isdigit()):\n",
    "        n=int(n)\n",
    "        previous=0\n",
    "        current=1\n",
    "        fib=0\n",
    "        ans='0 1'\n",
    "        if(n<0):\n",
    "            print(\"Input Can't be Negative\")\n",
    "            return\n",
    "        elif(n==0):\n",
    "            print(0)\n",
    "            return\n",
    "        elif(n==1):\n",
    "            print(ans)\n",
    "            return\n",
    "        else:    \n",
    "            for i in range(2,n+1):\n",
    "                fib = previous + current\n",
    "                previous = current\n",
    "                current = fib\n",
    "                ans=ans+\" \"+str(fib)\n",
    "        print(ans)\n",
    "    else:\n",
    "        print(\"Invalid Input\")\n",
    "\n",
    "\n",
    "print(\"Enter Number\")\n",
    "fib(input())\n"
   ]
  },
  {
   "cell_type": "markdown",
   "id": "9c6aaff0",
   "metadata": {},
   "source": [
    "<h2>Grading System</h2>"
   ]
  },
  {
   "cell_type": "code",
   "execution_count": 1,
   "id": "e54f06b6",
   "metadata": {
    "scrolled": true
   },
   "outputs": [
    {
     "name": "stdout",
     "output_type": "stream",
     "text": [
      "Enter marks: Press -1 to quit100\n",
      "Grade A\n",
      "Enter marks: Press -1 to quit90\n",
      "Grade B\n",
      "Enter marks: Press -1 to quit91\n",
      "Grade A\n",
      "Enter marks: Press -1 to quit81\n",
      "Grade B\n",
      "Enter marks: Press -1 to quit-1\n"
     ]
    }
   ],
   "source": [
    "marks=0\n",
    "while(True):\n",
    "    marks = int(input(\"Enter marks: Press -1 to quit\"))\n",
    "    if(marks==-1):\n",
    "        break\n",
    "    elif(marks>100 or marks <1):\n",
    "        print(\"Incorrect input\")\n",
    "    elif(marks>=91 and marks<=100):\n",
    "        print(\"Grade A\")\n",
    "    elif(marks>=81 and marks<=90):\n",
    "        print(\"Grade B\")\n",
    "    elif(marks>=71 and marks<=80):\n",
    "        print(\"Grade C\")\n",
    "    elif(marks>=61 and marks<=70):\n",
    "        print(\"Grade D\")\n",
    "    elif(marks>=51 and marks<=60):\n",
    "        print(\"Grade E\")\n",
    "    else:\n",
    "        print(\"Grade F\")"
   ]
  },
  {
   "cell_type": "markdown",
   "id": "8ee6ef11",
   "metadata": {},
   "source": [
    "<p>-----------------------------------------------------------------------------------------------------------------------------------------------------------------------------------------------------------------</p>"
   ]
  },
  {
   "cell_type": "markdown",
   "id": "60d3f6e4",
   "metadata": {},
   "source": [
    "<h2>Factorial</h2>"
   ]
  },
  {
   "cell_type": "code",
   "execution_count": 2,
   "id": "9e9035bc",
   "metadata": {},
   "outputs": [
    {
     "name": "stdout",
     "output_type": "stream",
     "text": [
      "Enter number for factorial calculation: Press -1 to quit0\n",
      "1\n",
      "Enter number for factorial calculation: Press -1 to quit2\n",
      "2\n",
      "Enter number for factorial calculation: Press -1 to quit3\n",
      "6\n",
      "Enter number for factorial calculation: Press -1 to quit4\n",
      "24\n",
      "Enter number for factorial calculation: Press -1 to quit5\n",
      "120\n",
      "Enter number for factorial calculation: Press -1 to quit6\n",
      "720\n",
      "Enter number for factorial calculation: Press -1 to quit-1\n"
     ]
    }
   ],
   "source": [
    "fact=1\n",
    "while(True):\n",
    "    num = int(input(\"Enter number for factorial calculation: Press -1 to quit\"))\n",
    "    if(num==-1):\n",
    "        break\n",
    "    else:\n",
    "        for i in range(num,1,-1):\n",
    "            fact*=i\n",
    "        print(fact)\n",
    "        fact=1\n"
   ]
  },
  {
   "cell_type": "markdown",
   "id": "e58a6c51",
   "metadata": {},
   "source": [
    "<p>-----------------------------------------------------------------------------------------------------------------------------------------------------------------------------------------------------------------</p>"
   ]
  }
 ],
 "metadata": {
  "kernelspec": {
   "display_name": "Python 3 (ipykernel)",
   "language": "python",
   "name": "python3"
  },
  "language_info": {
   "codemirror_mode": {
    "name": "ipython",
    "version": 3
   },
   "file_extension": ".py",
   "mimetype": "text/x-python",
   "name": "python",
   "nbconvert_exporter": "python",
   "pygments_lexer": "ipython3",
   "version": "3.8.11"
  }
 },
 "nbformat": 4,
 "nbformat_minor": 5
}
